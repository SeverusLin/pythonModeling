{
 "metadata": {
  "language_info": {
   "codemirror_mode": {
    "name": "ipython",
    "version": 3
   },
   "file_extension": ".py",
   "mimetype": "text/x-python",
   "name": "python",
   "nbconvert_exporter": "python",
   "pygments_lexer": "ipython3",
   "version": "3.7.4-final"
  },
  "orig_nbformat": 2,
  "kernelspec": {
   "name": "Python 3.7.4 64-bit ('base': conda)",
   "display_name": "Python 3.7.4 64-bit ('base': conda)",
   "metadata": {
    "interpreter": {
     "hash": "a8f61be024eba58adef938c9aa1e29e02cb3dece83a5348b1a2dafd16a070453"
    }
   }
  }
 },
 "nbformat": 4,
 "nbformat_minor": 2,
 "cells": [
  {
   "cell_type": "code",
   "execution_count": 1,
   "metadata": {},
   "outputs": [
    {
     "output_type": "stream",
     "name": "stdout",
     "text": [
      "[[0.00772217]\n [0.40264996]]\n"
     ]
    }
   ],
   "source": [
    "import numpy as np \n",
    "\n",
    "A=np.loadtxt(r\"C:\\Users\\51770\\Desktop\\pythonModeling\\11.txt\")\n",
    "\n",
    "x=A[:,0:-1]\n",
    "y=A[:,1:]\n",
    "\n",
    "ones=np.ones(x.shape[0])\n",
    "X=np.c_[ones,x]\n",
    "a=np.linalg.inv(X.T@X)@(X.T@y)\n",
    "print(a)"
   ]
  },
  {
   "cell_type": "code",
   "execution_count": 2,
   "metadata": {},
   "outputs": [
    {
     "output_type": "stream",
     "name": "stdout",
     "text": [
      "[[ 3.73602474]\n [ 2.07097503]\n [21.47218189]\n [ 5.08807461]\n [26.64157345]\n [ 0.49002419]\n [ 0.38734301]\n [ 0.3261194 ]\n [ 3.61761941]\n [ 0.98950381]\n [ 1.20173753]\n [ 0.41186013]]\n"
     ]
    }
   ],
   "source": [
    "yHat=X@a\n",
    "err=abs(y-yHat)/y*100\n",
    "print(err)"
   ]
  },
  {
   "cell_type": "code",
   "execution_count": 3,
   "metadata": {},
   "outputs": [
    {
     "output_type": "stream",
     "name": "stdout",
     "text": [
      "[[0.00772217]\n [0.40264996]]\n"
     ]
    }
   ],
   "source": [
    "from REG import MLR\n",
    "mlr=MLR(x,y)\n",
    "mlr.fit()\n",
    "\n",
    "yHat=mlr.predict(x)\n",
    "print(mlr.a)"
   ]
  },
  {
   "cell_type": "code",
   "execution_count": 4,
   "metadata": {},
   "outputs": [
    {
     "output_type": "stream",
     "name": "stdout",
     "text": [
      "[[ 3.73602474]\n [ 2.07097503]\n [21.47218189]\n [ 5.08807461]\n [26.64157345]\n [ 0.49002419]\n [ 0.38734301]\n [ 0.3261194 ]\n [ 3.61761941]\n [ 0.98950381]\n [ 1.20173753]\n [ 0.41186013]]\n"
     ]
    }
   ],
   "source": [
    "err=abs(yHat-y)/y*100\n",
    "print(err)"
   ]
  },
  {
   "cell_type": "code",
   "execution_count": 5,
   "metadata": {},
   "outputs": [
    {
     "output_type": "stream",
     "name": "stdout",
     "text": [
      "(13114.905640540113, 10.04428927339659, True)\n"
     ]
    }
   ],
   "source": [
    "print(mlr.FTest(0.01))"
   ]
  },
  {
   "cell_type": "code",
   "execution_count": 6,
   "metadata": {},
   "outputs": [
    {
     "output_type": "stream",
     "name": "stdout",
     "text": [
      "(0.9996189722891915, 0.7078875513299715, True)\n"
     ]
    }
   ],
   "source": [
    "print(mlr.RTest(0.01))"
   ]
  },
  {
   "cell_type": "code",
   "execution_count": null,
   "metadata": {},
   "outputs": [],
   "source": []
  }
 ]
}