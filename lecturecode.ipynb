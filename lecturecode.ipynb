{
 "metadata": {
  "language_info": {
   "codemirror_mode": {
    "name": "ipython",
    "version": 3
   },
   "file_extension": ".py",
   "mimetype": "text/x-python",
   "name": "python",
   "nbconvert_exporter": "python",
   "pygments_lexer": "ipython3",
   "version": "3.7.4-final"
  },
  "orig_nbformat": 2,
  "kernelspec": {
   "name": "Python 3.7.4 64-bit ('base': conda)",
   "display_name": "Python 3.7.4 64-bit ('base': conda)",
   "metadata": {
    "interpreter": {
     "hash": "a8f61be024eba58adef938c9aa1e29e02cb3dece83a5348b1a2dafd16a070453"
    }
   }
  }
 },
 "nbformat": 4,
 "nbformat_minor": 2,
 "cells": [
  {
   "cell_type": "code",
   "execution_count": 29,
   "metadata": {},
   "outputs": [
    {
     "output_type": "stream",
     "name": "stdout",
     "text": [
      "[0.00772217 0.40264996]\n"
     ]
    }
   ],
   "source": [
    "import numpy as np \n",
    "\n",
    "A=np.loadtxt(r\"C:\\Users\\51770\\Desktop\\pythonModeling\\11.txt\")\n",
    "\n",
    "x=A[:,0]\n",
    "y=A[:,1]\n",
    "\n",
    "ones=np.ones(x.shape[0])\n",
    "X=np.c_[ones,x]\n",
    "a=np.linalg.inv(X.T@X)@(X.T@y)\n",
    "print(a)"
   ]
  },
  {
   "cell_type": "code",
   "execution_count": 30,
   "metadata": {},
   "outputs": [
    {
     "output_type": "stream",
     "name": "stdout",
     "text": [
      "[ 3.73602474  2.07097503 21.47218189  5.08807461 26.64157345  0.49002419\n  0.38734301  0.3261194   3.61761941  0.98950381  1.20173753  0.41186013]\n"
     ]
    }
   ],
   "source": [
    "yHat=X@a\n",
    "err=abs(y-yHat)/y*100\n",
    "print(err)"
   ]
  },
  {
   "cell_type": "code",
   "execution_count": 43,
   "metadata": {},
   "outputs": [
    {
     "output_type": "stream",
     "name": "stdout",
     "text": [
      "[0.00772217 0.40264996]\n[ 3.73602474  2.07097503 21.47218189  5.08807461 26.64157345  0.49002419\n  0.38734301  0.3261194   3.61761941  0.98950381  1.20173753  0.41186013]\n"
     ]
    }
   ],
   "source": [
    "from REG import MLR\n",
    "mlr=MLR(x,y)\n",
    "mlr.fit()\n",
    "\n",
    "yHat=mlr.predict(x)\n",
    "\n",
    "print(mlr.a)\n",
    "err=abs(yHat-y)/y*100\n",
    "print(err)"
   ]
  },
  {
   "cell_type": "code",
   "execution_count": 1,
   "metadata": {},
   "outputs": [
    {
     "output_type": "error",
     "ename": "NameError",
     "evalue": "name 'mlr' is not defined",
     "traceback": [
      "\u001b[1;31m---------------------------------------------------------------------------\u001b[0m",
      "\u001b[1;31mNameError\u001b[0m                                 Traceback (most recent call last)",
      "\u001b[1;32m<ipython-input-1-a5d18336ee21>\u001b[0m in \u001b[0;36m<module>\u001b[1;34m\u001b[0m\n\u001b[1;32m----> 1\u001b[1;33m \u001b[0mprint\u001b[0m\u001b[1;33m(\u001b[0m\u001b[0mmlr\u001b[0m\u001b[1;33m.\u001b[0m\u001b[0mFTest\u001b[0m\u001b[1;33m(\u001b[0m\u001b[1;36m0.01\u001b[0m\u001b[1;33m)\u001b[0m\u001b[1;33m)\u001b[0m\u001b[1;33m\u001b[0m\u001b[1;33m\u001b[0m\u001b[0m\n\u001b[0m",
      "\u001b[1;31mNameError\u001b[0m: name 'mlr' is not defined"
     ]
    }
   ],
   "source": [
    "print(mlr.FTest(0.01))"
   ]
  },
  {
   "cell_type": "code",
   "execution_count": null,
   "metadata": {},
   "outputs": [],
   "source": []
  }
 ]
}