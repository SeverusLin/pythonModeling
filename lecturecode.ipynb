{
 "metadata": {
  "language_info": {
   "codemirror_mode": {
    "name": "ipython",
    "version": 3
   },
   "file_extension": ".py",
   "mimetype": "text/x-python",
   "name": "python",
   "nbconvert_exporter": "python",
   "pygments_lexer": "ipython3",
   "version": "3.7.4-final"
  },
  "orig_nbformat": 2,
  "kernelspec": {
   "name": "Python 3.7.4 64-bit ('base': conda)",
   "display_name": "Python 3.7.4 64-bit ('base': conda)",
   "metadata": {
    "interpreter": {
     "hash": "a8f61be024eba58adef938c9aa1e29e02cb3dece83a5348b1a2dafd16a070453"
    }
   }
  }
 },
 "nbformat": 4,
 "nbformat_minor": 2,
 "cells": [
  {
   "cell_type": "code",
   "execution_count": null,
   "metadata": {},
   "outputs": [],
   "source": [
    "import numpy as np \n",
    "\n",
    "A=np.loadtxt(r\"C:\\Users\\51770\\Desktop\\pythonModeling\\11.txt\")\n",
    "\n",
    "x=A[:,0]\n",
    "y=A[:,1]\n",
    "\n",
    "ones=np.ones(x.shape[0])\n",
    "X=np.c_[ones,x]\n",
    "a=np.linalg.inv(X.T@X)@(X.T@y)\n",
    "print(a)"
   ]
  },
  {
   "cell_type": "code",
   "execution_count": null,
   "metadata": {},
   "outputs": [],
   "source": [
    "yHat=X@a\n",
    "err=abs(y-yHat)/y*100\n",
    "print(err)"
   ]
  },
  {
   "cell_type": "code",
   "execution_count": null,
   "metadata": {},
   "outputs": [],
   "source": [
    "from regression import MLR\n",
    "mlr=MLR(x,y)\n",
    "mlr.fit()\n",
    "yHat=mlr.predict(x)\n",
    "\n",
    "print(mlr.a)\n",
    "err=abs(yHat-y)/y*100\n",
    "print(err)"
   ]
  },
  {
   "cell_type": "code",
   "execution_count": null,
   "metadata": {},
   "outputs": [],
   "source": [
    "#"
   ]
  }
 ]
}